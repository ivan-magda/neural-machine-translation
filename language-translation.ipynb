{
 "cells": [
  {
   "cell_type": "markdown",
   "metadata": {
    "collapsed": true
   },
   "source": [
    "# Language Translation\n",
    "In this project, we’ll be training a sequence to sequence model on a dataset of English and French sentences that can translate new sentences from English to French.\n",
    "## Get the Data"
   ]
  },
  {
   "cell_type": "code",
   "execution_count": 1,
   "metadata": {},
   "outputs": [
    {
     "name": "stderr",
     "output_type": "stream",
     "text": [
      "/home/ubuntu/anaconda3/envs/tensorflow_p36/lib/python3.6/site-packages/h5py/__init__.py:36: FutureWarning: Conversion of the second argument of issubdtype from `float` to `np.floating` is deprecated. In future, it will be treated as `np.float64 == np.dtype(float).type`.\n",
      "  from ._conv import register_converters as _register_converters\n",
      "/home/ubuntu/anaconda3/envs/tensorflow_p36/lib/python3.6/site-packages/matplotlib/__init__.py:1067: UserWarning: Duplicate key in file \"/home/ubuntu/.config/matplotlib/matplotlibrc\", line #2\n",
      "  (fname, cnt))\n",
      "/home/ubuntu/anaconda3/envs/tensorflow_p36/lib/python3.6/site-packages/matplotlib/__init__.py:1067: UserWarning: Duplicate key in file \"/home/ubuntu/.config/matplotlib/matplotlibrc\", line #3\n",
      "  (fname, cnt))\n"
     ]
    }
   ],
   "source": [
    "import helper\n",
    "import tests\n",
    "\n",
    "source_path = 'data/small_vocab_en'\n",
    "target_path = 'data/small_vocab_fr'\n",
    "source_text = helper.load_data(source_path)\n",
    "target_text = helper.load_data(target_path)"
   ]
  },
  {
   "cell_type": "markdown",
   "metadata": {},
   "source": [
    "## Explore the Data\n",
    "Play around with view_sentence_range to view different parts of the data."
   ]
  },
  {
   "cell_type": "code",
   "execution_count": 2,
   "metadata": {},
   "outputs": [
    {
     "name": "stdout",
     "output_type": "stream",
     "text": [
      "Dataset Stats\n",
      "Roughly the number of unique words: 227\n",
      "Number of sentences: 137861\n",
      "Average number of words in a sentence: 13.225277634719028\n",
      "\n",
      "English sentences 0 to 5:\n",
      "new jersey is sometimes quiet during autumn , and it is snowy in april .\n",
      "the united states is usually chilly during july , and it is usually freezing in november .\n",
      "california is usually quiet during march , and it is usually hot in june .\n",
      "the united states is sometimes mild during june , and it is cold in september .\n",
      "your least liked fruit is the grape , but my least liked is the apple .\n",
      "\n",
      "French sentences 0 to 5:\n",
      "new jersey est parfois calme pendant l' automne , et il est neigeux en avril .\n",
      "les états-unis est généralement froid en juillet , et il gèle habituellement en novembre .\n",
      "california est généralement calme en mars , et il est généralement chaud en juin .\n",
      "les états-unis est parfois légère en juin , et il fait froid en septembre .\n",
      "votre moins aimé fruit est le raisin , mais mon moins aimé est la pomme .\n"
     ]
    }
   ],
   "source": [
    "view_sentence_range = (0, 5)\n",
    "\n",
    "import numpy as np\n",
    "\n",
    "print('Dataset Stats')\n",
    "print('Roughly the number of unique words: {}'.format(len({word: None for word in source_text.split()})))\n",
    "\n",
    "sentences = source_text.split('\\n')\n",
    "word_counts = [len(sentence.split()) for sentence in sentences]\n",
    "print('Number of sentences: {}'.format(len(sentences)))\n",
    "print('Average number of words in a sentence: {}'.format(np.average(word_counts)))\n",
    "\n",
    "print()\n",
    "print('English sentences {} to {}:'.format(*view_sentence_range))\n",
    "print('\\n'.join(source_text.split('\\n')[view_sentence_range[0]:view_sentence_range[1]]))\n",
    "print()\n",
    "print('French sentences {} to {}:'.format(*view_sentence_range))\n",
    "print('\\n'.join(target_text.split('\\n')[view_sentence_range[0]:view_sentence_range[1]]))"
   ]
  },
  {
   "cell_type": "markdown",
   "metadata": {},
   "source": [
    "## Implement Preprocessing Function\n",
    "### Text to Word Ids\n",
    "As with other RNNs, we must turn the text into a number so the computer can understand it. In the function `text_to_ids()`, we'll turn `source_text` and `target_text` from words to ids.  However, we need to add the `<EOS>` word id at the end of `target_text`.  This will help the neural network predict when the sentence should end.\n",
    "\n",
    "We can get the `<EOS>` word id by doing:\n",
    "```python\n",
    "target_vocab_to_int['<EOS>']\n",
    "```\n",
    "We can get other word ids using `source_vocab_to_int` and `target_vocab_to_int`."
   ]
  },
  {
   "cell_type": "code",
   "execution_count": 3,
   "metadata": {},
   "outputs": [
    {
     "name": "stdout",
     "output_type": "stream",
     "text": [
      "Tests Passed\n"
     ]
    }
   ],
   "source": [
    "def text_to_ids(source_text, target_text, source_vocab_to_int, target_vocab_to_int):\n",
    "    \"\"\"\n",
    "    Convert source and target text to proper word ids\n",
    "    :param source_text: String that contains all the source text.\n",
    "    :param target_text: String that contains all the target text.\n",
    "    :param source_vocab_to_int: Dictionary to go from the source words to an id\n",
    "    :param target_vocab_to_int: Dictionary to go from the target words to an id\n",
    "    :return: A tuple of lists (source_id_text, target_id_text)\n",
    "    \"\"\"\n",
    "    EOS = target_vocab_to_int['<EOS>']\n",
    "    \n",
    "    source_id_text = [[source_vocab_to_int[word] for word in sentence.split()] for sentence in source_text.split('\\n')]\n",
    "    target_id_text = [[target_vocab_to_int[word] for word in (sentence + ' <EOS>').split()] for sentence in target_text.split('\\n')]\n",
    "    \n",
    "    return source_id_text, target_id_text\n",
    "\n",
    "tests.test_text_to_ids(text_to_ids)"
   ]
  },
  {
   "cell_type": "markdown",
   "metadata": {},
   "source": [
    "### Preprocess all the data and save it\n",
    "Running the code cell below will preprocess all the data and save it to file."
   ]
  },
  {
   "cell_type": "code",
   "execution_count": 4,
   "metadata": {},
   "outputs": [],
   "source": [
    "helper.preprocess_and_save_data(source_path, target_path, text_to_ids)"
   ]
  },
  {
   "cell_type": "markdown",
   "metadata": {},
   "source": [
    "# Check Point\n",
    "This is our first checkpoint. If we ever decide to come back to this notebook or have to restart the notebook, we start from here. The preprocessed data has been saved to disk."
   ]
  },
  {
   "cell_type": "code",
   "execution_count": 5,
   "metadata": {},
   "outputs": [],
   "source": [
    "import numpy as np\n",
    "import helper\n",
    "import tests\n",
    "\n",
    "(source_int_text, target_int_text), (source_vocab_to_int, target_vocab_to_int), _ = helper.load_preprocess()"
   ]
  },
  {
   "cell_type": "markdown",
   "metadata": {},
   "source": [
    "### Check the Version of TensorFlow and Access to GPU\n",
    "This will check to make sure you have the correct version of TensorFlow and access to a GPU"
   ]
  },
  {
   "cell_type": "code",
   "execution_count": 6,
   "metadata": {},
   "outputs": [
    {
     "name": "stdout",
     "output_type": "stream",
     "text": [
      "TensorFlow Version: 1.8.0\n",
      "Default GPU Device: /device:GPU:0\n"
     ]
    }
   ],
   "source": [
    "from distutils.version import LooseVersion\n",
    "import warnings\n",
    "import tensorflow as tf\n",
    "from tensorflow.python.layers.core import Dense\n",
    "\n",
    "# Check TensorFlow Version\n",
    "assert LooseVersion(tf.__version__) >= LooseVersion('1.1'), 'Please use TensorFlow version 1.1 or newer'\n",
    "print('TensorFlow Version: {}'.format(tf.__version__))\n",
    "\n",
    "# Check for a GPU\n",
    "if not tf.test.gpu_device_name():\n",
    "    warnings.warn('No GPU found. Please use a GPU to train your neural network.')\n",
    "else:\n",
    "    print('Default GPU Device: {}'.format(tf.test.gpu_device_name()))"
   ]
  },
  {
   "cell_type": "markdown",
   "metadata": {},
   "source": [
    "## Build the Neural Network\n",
    "Components necessary to build a Sequence-to-Sequence model by implementing the following functions below:\n",
    "- `model_inputs`\n",
    "- `process_decoder_input`\n",
    "- `encoding_layer`\n",
    "- `decoding_layer_train`\n",
    "- `decoding_layer_infer`\n",
    "- `decoding_layer`\n",
    "- `seq2seq_model`\n",
    "\n",
    "### Input\n",
    "`model_inputs()` function creates TF Placeholders for the Neural Network. It should create the following placeholders:\n",
    "\n",
    "- Input text placeholder named \"input\" using the TF Placeholder name parameter with rank 2.\n",
    "- Targets placeholder with rank 2.\n",
    "- Learning rate placeholder with rank 0.\n",
    "- Keep probability placeholder named \"keep_prob\" using the TF Placeholder name parameter with rank 0.\n",
    "- Target sequence length placeholder named \"target_sequence_length\" with rank 1\n",
    "- Max target sequence length tensor named \"max_target_len\" getting its value from applying tf.reduce_max on the target_sequence_length placeholder. Rank 0.\n",
    "- Source sequence length placeholder named \"source_sequence_length\" with rank 1\n",
    "\n",
    "Returns the placeholders in the following the tuple (input, targets, learning rate, keep probability, target sequence length, max target sequence length, source sequence length)"
   ]
  },
  {
   "cell_type": "code",
   "execution_count": 7,
   "metadata": {},
   "outputs": [
    {
     "name": "stdout",
     "output_type": "stream",
     "text": [
      "Tests Passed\n"
     ]
    }
   ],
   "source": [
    "def model_inputs():\n",
    "    \"\"\"\n",
    "    Create TF Placeholders for input, targets, learning rate, and lengths of source and target sequences.\n",
    "    :return: Tuple (input, targets, learning rate, keep probability, target sequence length,\n",
    "    max target sequence length, source sequence length)\n",
    "    \"\"\"\n",
    "    input = tf.placeholder(tf.int32, shape=[None, None], name='input')\n",
    "    targets = tf.placeholder(tf.int32, shape=[None, None], name='targets')\n",
    "    lr = tf.placeholder(tf.float32, name='learning_rate')\n",
    "    keep_prob = tf.placeholder(tf.float32, name='keep_prob')\n",
    "    target_sequence_length = tf.placeholder(tf.int32, shape=[None], name='target_sequence_length')\n",
    "    max_target_len = tf.reduce_max(target_sequence_length, name='max_target_len')\n",
    "    source_sequence_length = tf.placeholder(tf.int32, shape=[None], name='source_sequence_length')\n",
    "    \n",
    "    return input, targets, lr, keep_prob, target_sequence_length, max_target_len, source_sequence_length\n",
    "\n",
    "tests.test_model_inputs(model_inputs)"
   ]
  },
  {
   "cell_type": "markdown",
   "metadata": {},
   "source": [
    "### Process Decoder Input\n",
    "`process_decoder_input` removes the last word id from each batch in `target_data` and concat the GO ID to the begining of each batch."
   ]
  },
  {
   "cell_type": "code",
   "execution_count": 8,
   "metadata": {},
   "outputs": [
    {
     "name": "stdout",
     "output_type": "stream",
     "text": [
      "Tests Passed\n"
     ]
    }
   ],
   "source": [
    "def process_decoder_input(target_data, target_vocab_to_int, batch_size):\n",
    "    \"\"\"\n",
    "    Preprocess target data for encoding\n",
    "    :param target_data: Target Placehoder\n",
    "    :param target_vocab_to_int: Dictionary to go from the target words to an id\n",
    "    :param batch_size: Batch Size\n",
    "    :return: Preprocessed target data\n",
    "    \"\"\"\n",
    "    ending = tf.strided_slice(target_data, [0, 0], [batch_size, -1], [1, 1])\n",
    "    dec_input = tf.concat([tf.fill([batch_size, 1], target_vocab_to_int['<GO>']), ending], 1)\n",
    "    \n",
    "    return dec_input\n",
    "\n",
    "tests.test_process_encoding_input(process_decoder_input)"
   ]
  },
  {
   "cell_type": "markdown",
   "metadata": {},
   "source": [
    "### Encoding\n",
    "`encoding_layer()` creates a Encoder RNN layer:\n",
    " * Embed the encoder input using [`tf.contrib.layers.embed_sequence`](https://www.tensorflow.org/api_docs/python/tf/contrib/layers/embed_sequence)\n",
    " * Construct a [stacked](https://github.com/tensorflow/tensorflow/blob/6947f65a374ebf29e74bb71e36fd82760056d82c/tensorflow/docs_src/tutorials/recurrent.md#stacking-multiple-lstms) [`tf.contrib.rnn.LSTMCell`](https://www.tensorflow.org/api_docs/python/tf/contrib/rnn/LSTMCell) wrapped in a [`tf.contrib.rnn.DropoutWrapper`](https://www.tensorflow.org/api_docs/python/tf/contrib/rnn/DropoutWrapper)\n",
    " * Pass cell and embedded input to [`tf.nn.dynamic_rnn()`](https://www.tensorflow.org/api_docs/python/tf/nn/dynamic_rnn)"
   ]
  },
  {
   "cell_type": "code",
   "execution_count": 9,
   "metadata": {
    "scrolled": false
   },
   "outputs": [
    {
     "name": "stdout",
     "output_type": "stream",
     "text": [
      "Tests Passed\n"
     ]
    }
   ],
   "source": [
    "from imp import reload\n",
    "reload(tests)\n",
    "\n",
    "def encoding_layer(rnn_inputs, rnn_size, num_layers, keep_prob, \n",
    "                   source_sequence_length, source_vocab_size, \n",
    "                   encoding_embedding_size):\n",
    "    \"\"\"\n",
    "    Create encoding layer\n",
    "    :param rnn_inputs: Inputs for the RNN\n",
    "    :param rnn_size: RNN Size\n",
    "    :param num_layers: Number of layers\n",
    "    :param keep_prob: Dropout keep probability\n",
    "    :param source_sequence_length: a list of the lengths of each sequence in the batch\n",
    "    :param source_vocab_size: vocabulary size of source data\n",
    "    :param encoding_embedding_size: embedding size of source data\n",
    "    :return: tuple (RNN output, RNN state)\n",
    "    \"\"\"\n",
    "    # Encoder embedding\n",
    "    enc_embed_input = tf.contrib.layers.embed_sequence(\n",
    "        rnn_inputs,\n",
    "        source_vocab_size,\n",
    "        encoding_embedding_size\n",
    "    )\n",
    "    \n",
    "    # RNN cell\n",
    "    def make_cell(rnn_size):\n",
    "        lstm = tf.contrib.rnn.LSTMCell(rnn_size,\n",
    "                                       initializer=tf.random_uniform_initializer(-0.1, 0.1, seed=2))\n",
    "        # Add dropout to the cell\n",
    "        drop = tf.contrib.rnn.DropoutWrapper(lstm, output_keep_prob=keep_prob)\n",
    "        \n",
    "        return drop\n",
    "        \n",
    "    # create a RNN cell composed sequentially of a number of RNNCells\n",
    "    enc_cell = tf.contrib.rnn.MultiRNNCell([make_cell(rnn_size) for _ in range(num_layers)])\n",
    "    \n",
    "    enc_output, enc_state = tf.nn.dynamic_rnn(\n",
    "        enc_cell,\n",
    "        enc_embed_input,\n",
    "        sequence_length=source_sequence_length,\n",
    "        dtype=tf.float32\n",
    "    )\n",
    "    \n",
    "    return enc_output, enc_state\n",
    "\n",
    "tests.test_encoding_layer(encoding_layer)"
   ]
  },
  {
   "cell_type": "markdown",
   "metadata": {},
   "source": [
    "### Decoding - Training\n",
    "Creates training decoding layer:\n",
    "* Create a [`tf.contrib.seq2seq.TrainingHelper`](https://www.tensorflow.org/api_docs/python/tf/contrib/seq2seq/TrainingHelper) \n",
    "* Create a [`tf.contrib.seq2seq.BasicDecoder`](https://www.tensorflow.org/api_docs/python/tf/contrib/seq2seq/BasicDecoder)\n",
    "* Obtain the decoder outputs from [`tf.contrib.seq2seq.dynamic_decode`](https://www.tensorflow.org/api_docs/python/tf/contrib/seq2seq/dynamic_decode)"
   ]
  },
  {
   "cell_type": "code",
   "execution_count": 10,
   "metadata": {},
   "outputs": [
    {
     "name": "stdout",
     "output_type": "stream",
     "text": [
      "Tests Passed\n"
     ]
    }
   ],
   "source": [
    "def decoding_layer_train(encoder_state, dec_cell, dec_embed_input, \n",
    "                         target_sequence_length, max_summary_length, \n",
    "                         output_layer, keep_prob):\n",
    "    \"\"\"\n",
    "    Create a decoding layer for training\n",
    "    :param encoder_state: Encoder State\n",
    "    :param dec_cell: Decoder RNN Cell\n",
    "    :param dec_embed_input: Decoder embedded input\n",
    "    :param target_sequence_length: The lengths of each sequence in the target batch\n",
    "    :param max_summary_length: The length of the longest sequence in the batch\n",
    "    :param output_layer: Function to apply the output layer\n",
    "    :param keep_prob: Dropout keep probability\n",
    "    :return: BasicDecoderOutput containing training logits and sample_id\n",
    "    \"\"\"\n",
    "    # Helper for the training process. Used by BasicDecoder to read inputs.\n",
    "    training_helper = tf.contrib.seq2seq.TrainingHelper(\n",
    "        inputs=dec_embed_input,\n",
    "        sequence_length=target_sequence_length,\n",
    "        time_major=False\n",
    "    )\n",
    "    \n",
    "    # Basic decoder\n",
    "    training_decoder = tf.contrib.seq2seq.BasicDecoder(\n",
    "        cell=dec_cell,\n",
    "        helper=training_helper,\n",
    "        initial_state=encoder_state,\n",
    "        output_layer=output_layer\n",
    "    )\n",
    "    \n",
    "    # Perform dynamic decoding using the decoder\n",
    "    training_decoder_output = tf.contrib.seq2seq.dynamic_decode(\n",
    "        decoder=training_decoder,\n",
    "        impute_finished=True,\n",
    "        maximum_iterations=max_summary_length\n",
    "    )[0]\n",
    "\n",
    "    return training_decoder_output\n",
    "\n",
    "tests.test_decoding_layer_train(decoding_layer_train)"
   ]
  },
  {
   "cell_type": "markdown",
   "metadata": {},
   "source": [
    "### Decoding - Inference\n",
    "Creates inference decoder:\n",
    "* Create a [`tf.contrib.seq2seq.GreedyEmbeddingHelper`](https://www.tensorflow.org/api_docs/python/tf/contrib/seq2seq/GreedyEmbeddingHelper)\n",
    "* Create a [`tf.contrib.seq2seq.BasicDecoder`](https://www.tensorflow.org/api_docs/python/tf/contrib/seq2seq/BasicDecoder)\n",
    "* Obtain the decoder outputs from [`tf.contrib.seq2seq.dynamic_decode`](https://www.tensorflow.org/api_docs/python/tf/contrib/seq2seq/dynamic_decode)"
   ]
  },
  {
   "cell_type": "code",
   "execution_count": 11,
   "metadata": {
    "scrolled": true
   },
   "outputs": [
    {
     "name": "stdout",
     "output_type": "stream",
     "text": [
      "Tests Passed\n"
     ]
    }
   ],
   "source": [
    "def decoding_layer_infer(encoder_state, dec_cell, dec_embeddings, start_of_sequence_id,\n",
    "                         end_of_sequence_id, max_target_sequence_length,\n",
    "                         vocab_size, output_layer, batch_size, keep_prob):\n",
    "    \"\"\"\n",
    "    Create a decoding layer for inference\n",
    "    :param encoder_state: Encoder state\n",
    "    :param dec_cell: Decoder RNN Cell\n",
    "    :param dec_embeddings: Decoder embeddings\n",
    "    :param start_of_sequence_id: GO ID\n",
    "    :param end_of_sequence_id: EOS Id\n",
    "    :param max_target_sequence_length: Maximum length of target sequences\n",
    "    :param vocab_size: Size of decoder/target vocabulary\n",
    "    :param output_layer: Function to apply the output layer\n",
    "    :param batch_size: Batch size\n",
    "    :param keep_prob: Dropout keep probability\n",
    "    :return: BasicDecoderOutput containing inference logits and sample_id\n",
    "    \"\"\"\n",
    "    start_tokens = tf.tile(\n",
    "        tf.constant([start_of_sequence_id], dtype=tf.int32),\n",
    "        [batch_size],\n",
    "        name='start_tokens'\n",
    "    )\n",
    "    \n",
    "    # Helper for the inference process.\n",
    "    inference_helper = tf.contrib.seq2seq.GreedyEmbeddingHelper(\n",
    "        embedding=dec_embeddings,\n",
    "        start_tokens=start_tokens,\n",
    "        end_token=end_of_sequence_id\n",
    "    )\n",
    "    \n",
    "    # Basic decoder\n",
    "    inference_decoder = tf.contrib.seq2seq.BasicDecoder(\n",
    "        cell=dec_cell,\n",
    "        helper=inference_helper,\n",
    "        initial_state=encoder_state,\n",
    "        output_layer=output_layer\n",
    "    )\n",
    "    \n",
    "    # Perform dynamic decoding using the decoder\n",
    "    inference_decoder_output = tf.contrib.seq2seq.dynamic_decode(\n",
    "        decoder=inference_decoder,\n",
    "        impute_finished=True,\n",
    "        maximum_iterations=max_target_sequence_length\n",
    "    )[0]\n",
    "    \n",
    "    return inference_decoder_output\n",
    "\n",
    "tests.test_decoding_layer_infer(decoding_layer_infer)"
   ]
  },
  {
   "cell_type": "markdown",
   "metadata": {},
   "source": [
    "### Build the Decoding Layer\n",
    "`decoding_layer()` creates a Decoder RNN layer.\n",
    "\n",
    "* Embed the target sequences\n",
    "* Construct the decoder LSTM cell (just like you constructed the encoder cell above)\n",
    "* Create an output layer to map the outputs of the decoder to the elements of our vocabulary\n",
    "* Use the your `decoding_layer_train(encoder_state, dec_cell, dec_embed_input, target_sequence_length, max_target_sequence_length, output_layer, keep_prob)` function to get the training logits.\n",
    "* Use your `decoding_layer_infer(encoder_state, dec_cell, dec_embeddings, start_of_sequence_id, end_of_sequence_id, max_target_sequence_length, vocab_size, output_layer, batch_size, keep_prob)` function to get the inference logits.\n",
    "\n",
    "Note: We'll need to use [tf.variable_scope](https://www.tensorflow.org/api_docs/python/tf/variable_scope) to share variables between training and inference."
   ]
  },
  {
   "cell_type": "code",
   "execution_count": 12,
   "metadata": {},
   "outputs": [
    {
     "name": "stdout",
     "output_type": "stream",
     "text": [
      "Tests Passed\n"
     ]
    }
   ],
   "source": [
    "def decoding_layer(dec_input, encoder_state,\n",
    "                   target_sequence_length, max_target_sequence_length,\n",
    "                   rnn_size,\n",
    "                   num_layers, target_vocab_to_int, target_vocab_size,\n",
    "                   batch_size, keep_prob, decoding_embedding_size):\n",
    "    \"\"\"\n",
    "    Create decoding layer\n",
    "    :param dec_input: Decoder input\n",
    "    :param encoder_state: Encoder state\n",
    "    :param target_sequence_length: The lengths of each sequence in the target batch\n",
    "    :param max_target_sequence_length: Maximum length of target sequences\n",
    "    :param rnn_size: RNN Size\n",
    "    :param num_layers: Number of layers\n",
    "    :param target_vocab_to_int: Dictionary to go from the target words to an id\n",
    "    :param target_vocab_size: Size of target vocabulary\n",
    "    :param batch_size: The size of the batch\n",
    "    :param keep_prob: Dropout keep probability\n",
    "    :param decoding_embedding_size: Decoding embedding size\n",
    "    :return: Tuple of (Training BasicDecoderOutput, Inference BasicDecoderOutput)\n",
    "    \"\"\"\n",
    "    # Decoder Embedding\n",
    "    dec_embeddings = tf.Variable(tf.random_uniform([target_vocab_size, decoding_embedding_size]))\n",
    "    dec_embed_input = tf.nn.embedding_lookup(dec_embeddings, dec_input)\n",
    "    \n",
    "    # Construct the decoder cell\n",
    "    def make_cell(rnn_size):\n",
    "        dec_cell = tf.contrib.rnn.LSTMCell(\n",
    "            rnn_size,\n",
    "            initializer=tf.random_uniform_initializer(-0.1, 0.1, seed=2)\n",
    "        )\n",
    "        \n",
    "        return dec_cell\n",
    "\n",
    "    dec_cell = tf.contrib.rnn.MultiRNNCell([make_cell(rnn_size) for _ in range(num_layers)])\n",
    "    \n",
    "    # Dense layer to translate the decoder's output at each time \n",
    "    # step into a choice from the target vocabulary\n",
    "    output_layer = Dense(\n",
    "        target_vocab_size,\n",
    "        kernel_initializer = tf.truncated_normal_initializer(mean = 0.0, stddev=0.1)\n",
    "    )\n",
    "    \n",
    "    # Set up a training decoder and an inference decoder\n",
    "    # Training Decoder\n",
    "    with tf.variable_scope(\"decode\"):\n",
    "        training_decoder_output = decoding_layer_train(\n",
    "            encoder_state,\n",
    "            dec_cell,\n",
    "            dec_embed_input,\n",
    "            target_sequence_length,\n",
    "            max_target_sequence_length,\n",
    "            output_layer,\n",
    "            keep_prob\n",
    "        )\n",
    "    \n",
    "    # Reuses the same parameters trained by the training process\n",
    "    with tf.variable_scope(\"decode\", reuse=True):\n",
    "        start_of_sequence_id = target_vocab_to_int['<GO>']\n",
    "        end_of_sequence_id = target_vocab_to_int['<EOS>']\n",
    "        \n",
    "        inference_decoder_output = decoding_layer_infer(\n",
    "            encoder_state,\n",
    "            dec_cell,\n",
    "            dec_embeddings,\n",
    "            start_of_sequence_id,\n",
    "            end_of_sequence_id,\n",
    "            max_target_sequence_length,\n",
    "            target_vocab_size,\n",
    "            output_layer,\n",
    "            batch_size,\n",
    "            keep_prob\n",
    "        )\n",
    "        \n",
    "    return training_decoder_output, inference_decoder_output\n",
    "\n",
    "tests.test_decoding_layer(decoding_layer)"
   ]
  },
  {
   "cell_type": "markdown",
   "metadata": {},
   "source": [
    "### Build the Neural Network\n",
    "Apply the functions above to implement seq2seq model:\n",
    "\n",
    "- Encode the input using your `encoding_layer(rnn_inputs, rnn_size, num_layers, keep_prob,  source_sequence_length, source_vocab_size, encoding_embedding_size)`.\n",
    "- Process target data using your `process_decoder_input(target_data, target_vocab_to_int, batch_size)` function.\n",
    "- Decode the encoded input using your `decoding_layer(dec_input, enc_state, target_sequence_length, max_target_sentence_length, rnn_size, num_layers, target_vocab_to_int, target_vocab_size, batch_size, keep_prob, dec_embedding_size)` function."
   ]
  },
  {
   "cell_type": "code",
   "execution_count": 13,
   "metadata": {},
   "outputs": [
    {
     "name": "stdout",
     "output_type": "stream",
     "text": [
      "Tests Passed\n"
     ]
    }
   ],
   "source": [
    "def seq2seq_model(input_data, target_data, keep_prob, batch_size,\n",
    "                  source_sequence_length, target_sequence_length,\n",
    "                  max_target_sentence_length,\n",
    "                  source_vocab_size, target_vocab_size,\n",
    "                  enc_embedding_size, dec_embedding_size,\n",
    "                  rnn_size, num_layers, target_vocab_to_int):\n",
    "    \"\"\"\n",
    "    Build the Sequence-to-Sequence part of the neural network\n",
    "    :param input_data: Input placeholder\n",
    "    :param target_data: Target placeholder\n",
    "    :param keep_prob: Dropout keep probability placeholder\n",
    "    :param batch_size: Batch Size\n",
    "    :param source_sequence_length: Sequence Lengths of source sequences in the batch\n",
    "    :param target_sequence_length: Sequence Lengths of target sequences in the batch\n",
    "    :param source_vocab_size: Source vocabulary size\n",
    "    :param target_vocab_size: Target vocabulary size\n",
    "    :param enc_embedding_size: Decoder embedding size\n",
    "    :param dec_embedding_size: Encoder embedding size\n",
    "    :param rnn_size: RNN Size\n",
    "    :param num_layers: Number of layers\n",
    "    :param target_vocab_to_int: Dictionary to go from the target words to an id\n",
    "    :return: Tuple of (Training BasicDecoderOutput, Inference BasicDecoderOutput)\n",
    "    \"\"\"\n",
    "    # Pass the input data through the encoder. We'll ignore the encoder output, but use the state.\n",
    "    _, enc_state = encoding_layer(\n",
    "        input_data,\n",
    "        rnn_size,\n",
    "        num_layers,\n",
    "        keep_prob,\n",
    "        source_sequence_length,\n",
    "        source_vocab_size,\n",
    "        enc_embedding_size\n",
    "    )\n",
    "    \n",
    "    # Prepare the target sequences we'll feed to the decoder in training mode.\n",
    "    dec_input = process_decoder_input(target_data, target_vocab_to_int, batch_size)\n",
    "    \n",
    "    # Pass encoder state and decoder inputs to the decoders.\n",
    "    training_decoder_output, inference_decoder_output = decoding_layer(\n",
    "        dec_input,\n",
    "        enc_state,\n",
    "        target_sequence_length,\n",
    "        max_target_sentence_length,\n",
    "        rnn_size,\n",
    "        num_layers,\n",
    "        target_vocab_to_int,\n",
    "        target_vocab_size,\n",
    "        batch_size,\n",
    "        keep_prob,\n",
    "        dec_embedding_size\n",
    "    )\n",
    "    \n",
    "    return training_decoder_output, inference_decoder_output\n",
    "\n",
    "tests.test_seq2seq_model(seq2seq_model)"
   ]
  },
  {
   "cell_type": "markdown",
   "metadata": {},
   "source": [
    "## Neural Network Training\n",
    "### Hyperparameters\n",
    "Tune the following parameters:\n",
    "\n",
    "- `epochs` - the number of epochs.\n",
    "- `batch_size` - the batch size.\n",
    "- `rnn_size` - the size of the RNNs.\n",
    "- `num_layers` - the number of layers.\n",
    "- `encoding_embedding_size` - the size of the embedding for the encoder.\n",
    "- `decoding_embedding_size` - the size of the embedding for the decoder.\n",
    "- `learning_rate` - the learning rate.\n",
    "- `keep_probability` - the Dropout keep probability\n",
    "- `display_step` - how many steps between each debug output statement"
   ]
  },
  {
   "cell_type": "code",
   "execution_count": 14,
   "metadata": {},
   "outputs": [],
   "source": [
    "# Number of Epochs\n",
    "epochs = 21\n",
    "# Batch Size\n",
    "batch_size = 1024\n",
    "# RNN Size\n",
    "rnn_size = 100\n",
    "# Number of Layers\n",
    "num_layers = 2\n",
    "# Embedding Size\n",
    "encoding_embedding_size = 100\n",
    "decoding_embedding_size = 100\n",
    "# Learning Rate\n",
    "learning_rate = 0.005\n",
    "# Dropout Keep Probability\n",
    "keep_probability = 0.5\n",
    "display_step = 20"
   ]
  },
  {
   "cell_type": "markdown",
   "metadata": {},
   "source": [
    "### Build the Graph\n",
    "Build the graph using the neural network you implemented."
   ]
  },
  {
   "cell_type": "code",
   "execution_count": 15,
   "metadata": {},
   "outputs": [],
   "source": [
    "save_path = 'checkpoints/dev'\n",
    "(source_int_text, target_int_text), (source_vocab_to_int, target_vocab_to_int), _ = helper.load_preprocess()\n",
    "max_target_sentence_length = max([len(sentence) for sentence in source_int_text])\n",
    "\n",
    "train_graph = tf.Graph()\n",
    "with train_graph.as_default():\n",
    "    input_data, targets, lr, keep_prob, target_sequence_length, max_target_sequence_length, source_sequence_length = model_inputs()\n",
    "\n",
    "    #sequence_length = tf.placeholder_with_default(max_target_sentence_length, None, name='sequence_length')\n",
    "    input_shape = tf.shape(input_data)\n",
    "\n",
    "    train_logits, inference_logits = seq2seq_model(tf.reverse(input_data, [-1]),\n",
    "                                                   targets,\n",
    "                                                   keep_prob,\n",
    "                                                   batch_size,\n",
    "                                                   source_sequence_length,\n",
    "                                                   target_sequence_length,\n",
    "                                                   max_target_sequence_length,\n",
    "                                                   len(source_vocab_to_int),\n",
    "                                                   len(target_vocab_to_int),\n",
    "                                                   encoding_embedding_size,\n",
    "                                                   decoding_embedding_size,\n",
    "                                                   rnn_size,\n",
    "                                                   num_layers,\n",
    "                                                   target_vocab_to_int)\n",
    "\n",
    "\n",
    "    training_logits = tf.identity(train_logits.rnn_output, name='logits')\n",
    "    inference_logits = tf.identity(inference_logits.sample_id, name='predictions')\n",
    "\n",
    "    masks = tf.sequence_mask(target_sequence_length, max_target_sequence_length, dtype=tf.float32, name='masks')\n",
    "\n",
    "    with tf.name_scope(\"optimization\"):\n",
    "        # Loss function\n",
    "        cost = tf.contrib.seq2seq.sequence_loss(\n",
    "            training_logits,\n",
    "            targets,\n",
    "            masks)\n",
    "\n",
    "        # Optimizer\n",
    "        optimizer = tf.train.AdamOptimizer(lr)\n",
    "\n",
    "        # Gradient Clipping\n",
    "        gradients = optimizer.compute_gradients(cost)\n",
    "        capped_gradients = [(tf.clip_by_value(grad, -1., 1.), var) for grad, var in gradients if grad is not None]\n",
    "        train_op = optimizer.apply_gradients(capped_gradients)"
   ]
  },
  {
   "cell_type": "markdown",
   "metadata": {},
   "source": [
    "Batch and pad the source and target sequences"
   ]
  },
  {
   "cell_type": "code",
   "execution_count": 16,
   "metadata": {},
   "outputs": [],
   "source": [
    "def pad_sentence_batch(sentence_batch, pad_int):\n",
    "    \"\"\"Pad sentences with <PAD> so that each sentence of a batch has the same length\"\"\"\n",
    "    max_sentence = max([len(sentence) for sentence in sentence_batch])\n",
    "    return [sentence + [pad_int] * (max_sentence - len(sentence)) for sentence in sentence_batch]\n",
    "\n",
    "def get_batches(sources, targets, batch_size, source_pad_int, target_pad_int):\n",
    "    \"\"\"Batch targets, sources, and the lengths of their sentences together\"\"\"\n",
    "    for batch_i in range(0, len(sources)//batch_size):\n",
    "        start_i = batch_i * batch_size\n",
    "\n",
    "        # Slice the right amount for the batch\n",
    "        sources_batch = sources[start_i:start_i + batch_size]\n",
    "        targets_batch = targets[start_i:start_i + batch_size]\n",
    "\n",
    "        # Pad\n",
    "        pad_sources_batch = np.array(pad_sentence_batch(sources_batch, source_pad_int))\n",
    "        pad_targets_batch = np.array(pad_sentence_batch(targets_batch, target_pad_int))\n",
    "\n",
    "        # Need the lengths for the _lengths parameters\n",
    "        pad_targets_lengths = []\n",
    "        for target in pad_targets_batch:\n",
    "            pad_targets_lengths.append(len(target))\n",
    "\n",
    "        pad_source_lengths = []\n",
    "        for source in pad_sources_batch:\n",
    "            pad_source_lengths.append(len(source))\n",
    "\n",
    "        yield pad_sources_batch, pad_targets_batch, pad_source_lengths, pad_targets_lengths"
   ]
  },
  {
   "cell_type": "markdown",
   "metadata": {},
   "source": [
    "### Train\n",
    "Train the neural network on the preprocessed data."
   ]
  },
  {
   "cell_type": "code",
   "execution_count": 17,
   "metadata": {},
   "outputs": [],
   "source": [
    "from datetime import datetime\n",
    "\n",
    "now = datetime.utcnow().strftime(\"%Y%m%d%H%M%S\")\n",
    "root_logdir = \"./logs/\"\n",
    "logdir = \"{}/run-{}/\".format(root_logdir, now)"
   ]
  },
  {
   "cell_type": "code",
   "execution_count": 18,
   "metadata": {
    "scrolled": true
   },
   "outputs": [
    {
     "name": "stdout",
     "output_type": "stream",
     "text": [
      "Epoch   0 Batch   20/134 - Train Accuracy: 0.3999, Validation Accuracy: 0.4039, Loss: 2.7645\n",
      "Epoch   0 Batch   40/134 - Train Accuracy: 0.4490, Validation Accuracy: 0.4695, Loss: 2.4576\n",
      "Epoch   0 Batch   60/134 - Train Accuracy: 0.4740, Validation Accuracy: 0.4988, Loss: 2.1269\n",
      "Epoch   0 Batch   80/134 - Train Accuracy: 0.4738, Validation Accuracy: 0.5015, Loss: 1.8541\n",
      "Epoch   0 Batch  100/134 - Train Accuracy: 0.4518, Validation Accuracy: 0.4752, Loss: 1.4790\n",
      "Epoch   0 Batch  120/134 - Train Accuracy: 0.4022, Validation Accuracy: 0.4215, Loss: 1.1532\n",
      "Epoch   1 Batch   20/134 - Train Accuracy: 0.5171, Validation Accuracy: 0.5182, Loss: 0.8361\n",
      "Epoch   1 Batch   40/134 - Train Accuracy: 0.5463, Validation Accuracy: 0.5628, Loss: 0.7693\n",
      "Epoch   1 Batch   60/134 - Train Accuracy: 0.5737, Validation Accuracy: 0.5876, Loss: 0.7037\n",
      "Epoch   1 Batch   80/134 - Train Accuracy: 0.5778, Validation Accuracy: 0.6065, Loss: 0.6662\n",
      "Epoch   1 Batch  100/134 - Train Accuracy: 0.6165, Validation Accuracy: 0.6344, Loss: 0.6210\n",
      "Epoch   1 Batch  120/134 - Train Accuracy: 0.6154, Validation Accuracy: 0.6299, Loss: 0.5842\n",
      "Epoch   2 Batch   20/134 - Train Accuracy: 0.6543, Validation Accuracy: 0.6558, Loss: 0.5248\n",
      "Epoch   2 Batch   40/134 - Train Accuracy: 0.6726, Validation Accuracy: 0.6692, Loss: 0.4910\n",
      "Epoch   2 Batch   60/134 - Train Accuracy: 0.6626, Validation Accuracy: 0.6713, Loss: 0.4799\n",
      "Epoch   2 Batch   80/134 - Train Accuracy: 0.6837, Validation Accuracy: 0.7014, Loss: 0.4363\n",
      "Epoch   2 Batch  100/134 - Train Accuracy: 0.6955, Validation Accuracy: 0.7103, Loss: 0.4003\n",
      "Epoch   2 Batch  120/134 - Train Accuracy: 0.7254, Validation Accuracy: 0.7287, Loss: 0.3804\n",
      "Epoch   3 Batch   20/134 - Train Accuracy: 0.7694, Validation Accuracy: 0.7677, Loss: 0.3111\n",
      "Epoch   3 Batch   40/134 - Train Accuracy: 0.7741, Validation Accuracy: 0.7880, Loss: 0.2934\n",
      "Epoch   3 Batch   60/134 - Train Accuracy: 0.7861, Validation Accuracy: 0.7982, Loss: 0.2723\n",
      "Epoch   3 Batch   80/134 - Train Accuracy: 0.8111, Validation Accuracy: 0.8173, Loss: 0.2469\n",
      "Epoch   3 Batch  100/134 - Train Accuracy: 0.8206, Validation Accuracy: 0.8366, Loss: 0.2254\n",
      "Epoch   3 Batch  120/134 - Train Accuracy: 0.8383, Validation Accuracy: 0.8449, Loss: 0.2114\n",
      "Epoch   4 Batch   20/134 - Train Accuracy: 0.8601, Validation Accuracy: 0.8623, Loss: 0.1724\n",
      "Epoch   4 Batch   40/134 - Train Accuracy: 0.8643, Validation Accuracy: 0.8757, Loss: 0.1671\n",
      "Epoch   4 Batch   60/134 - Train Accuracy: 0.8859, Validation Accuracy: 0.8846, Loss: 0.1500\n",
      "Epoch   4 Batch   80/134 - Train Accuracy: 0.8983, Validation Accuracy: 0.9006, Loss: 0.1329\n",
      "Epoch   4 Batch  100/134 - Train Accuracy: 0.9004, Validation Accuracy: 0.9043, Loss: 0.1254\n",
      "Epoch   4 Batch  120/134 - Train Accuracy: 0.9032, Validation Accuracy: 0.9103, Loss: 0.1163\n",
      "Epoch   5 Batch   20/134 - Train Accuracy: 0.9184, Validation Accuracy: 0.9200, Loss: 0.0922\n",
      "Epoch   5 Batch   40/134 - Train Accuracy: 0.9159, Validation Accuracy: 0.9221, Loss: 0.0898\n",
      "Epoch   5 Batch   60/134 - Train Accuracy: 0.9166, Validation Accuracy: 0.9190, Loss: 0.0784\n",
      "Epoch   5 Batch   80/134 - Train Accuracy: 0.9293, Validation Accuracy: 0.9350, Loss: 0.0721\n",
      "Epoch   5 Batch  100/134 - Train Accuracy: 0.9340, Validation Accuracy: 0.9332, Loss: 0.0690\n",
      "Epoch   5 Batch  120/134 - Train Accuracy: 0.9289, Validation Accuracy: 0.9381, Loss: 0.0710\n",
      "Epoch   6 Batch   20/134 - Train Accuracy: 0.9339, Validation Accuracy: 0.9398, Loss: 0.0565\n",
      "Epoch   6 Batch   40/134 - Train Accuracy: 0.9359, Validation Accuracy: 0.9464, Loss: 0.0588\n",
      "Epoch   6 Batch   60/134 - Train Accuracy: 0.9410, Validation Accuracy: 0.9486, Loss: 0.0495\n",
      "Epoch   6 Batch   80/134 - Train Accuracy: 0.9478, Validation Accuracy: 0.9557, Loss: 0.0476\n",
      "Epoch   6 Batch  100/134 - Train Accuracy: 0.9485, Validation Accuracy: 0.9490, Loss: 0.0482\n",
      "Epoch   6 Batch  120/134 - Train Accuracy: 0.9495, Validation Accuracy: 0.9506, Loss: 0.0498\n",
      "Epoch   7 Batch   20/134 - Train Accuracy: 0.9454, Validation Accuracy: 0.9498, Loss: 0.0428\n",
      "Epoch   7 Batch   40/134 - Train Accuracy: 0.7321, Validation Accuracy: 0.7346, Loss: 0.5683\n",
      "Epoch   7 Batch   60/134 - Train Accuracy: 0.8958, Validation Accuracy: 0.8887, Loss: 0.0913\n",
      "Epoch   7 Batch   80/134 - Train Accuracy: 0.9395, Validation Accuracy: 0.9446, Loss: 0.0538\n",
      "Epoch   7 Batch  100/134 - Train Accuracy: 0.9409, Validation Accuracy: 0.9528, Loss: 0.0467\n",
      "Epoch   7 Batch  120/134 - Train Accuracy: 0.9458, Validation Accuracy: 0.9592, Loss: 0.0456\n",
      "Epoch   8 Batch   20/134 - Train Accuracy: 0.9460, Validation Accuracy: 0.9576, Loss: 0.0365\n",
      "Epoch   8 Batch   40/134 - Train Accuracy: 0.9511, Validation Accuracy: 0.9575, Loss: 0.0380\n",
      "Epoch   8 Batch   60/134 - Train Accuracy: 0.9545, Validation Accuracy: 0.9584, Loss: 0.0322\n",
      "Epoch   8 Batch   80/134 - Train Accuracy: 0.9598, Validation Accuracy: 0.9627, Loss: 0.0318\n",
      "Epoch   8 Batch  100/134 - Train Accuracy: 0.9590, Validation Accuracy: 0.9600, Loss: 0.0327\n",
      "Epoch   8 Batch  120/134 - Train Accuracy: 0.9622, Validation Accuracy: 0.9650, Loss: 0.0350\n",
      "Epoch   9 Batch   20/134 - Train Accuracy: 0.9563, Validation Accuracy: 0.9643, Loss: 0.0293\n",
      "Epoch   9 Batch   40/134 - Train Accuracy: 0.9631, Validation Accuracy: 0.9602, Loss: 0.0313\n",
      "Epoch   9 Batch   60/134 - Train Accuracy: 0.9565, Validation Accuracy: 0.9628, Loss: 0.0268\n",
      "Epoch   9 Batch   80/134 - Train Accuracy: 0.9657, Validation Accuracy: 0.9657, Loss: 0.0265\n",
      "Epoch   9 Batch  100/134 - Train Accuracy: 0.9639, Validation Accuracy: 0.9657, Loss: 0.0274\n",
      "Epoch   9 Batch  120/134 - Train Accuracy: 0.9637, Validation Accuracy: 0.9673, Loss: 0.0295\n",
      "Epoch  10 Batch   20/134 - Train Accuracy: 0.9609, Validation Accuracy: 0.9673, Loss: 0.0251\n",
      "Epoch  10 Batch   40/134 - Train Accuracy: 0.9680, Validation Accuracy: 0.9635, Loss: 0.0266\n",
      "Epoch  10 Batch   60/134 - Train Accuracy: 0.9652, Validation Accuracy: 0.9656, Loss: 0.0230\n",
      "Epoch  10 Batch   80/134 - Train Accuracy: 0.9694, Validation Accuracy: 0.9702, Loss: 0.0228\n",
      "Epoch  10 Batch  100/134 - Train Accuracy: 0.9681, Validation Accuracy: 0.9695, Loss: 0.0237\n",
      "Epoch  10 Batch  120/134 - Train Accuracy: 0.9668, Validation Accuracy: 0.9693, Loss: 0.0254\n",
      "Epoch  11 Batch   20/134 - Train Accuracy: 0.9658, Validation Accuracy: 0.9677, Loss: 0.0223\n",
      "Epoch  11 Batch   40/134 - Train Accuracy: 0.9710, Validation Accuracy: 0.9680, Loss: 0.0232\n",
      "Epoch  11 Batch   60/134 - Train Accuracy: 0.9680, Validation Accuracy: 0.9650, Loss: 0.0199\n",
      "Epoch  11 Batch   80/134 - Train Accuracy: 0.9725, Validation Accuracy: 0.9730, Loss: 0.0204\n",
      "Epoch  11 Batch  100/134 - Train Accuracy: 0.9692, Validation Accuracy: 0.9728, Loss: 0.0208\n",
      "Epoch  11 Batch  120/134 - Train Accuracy: 0.9702, Validation Accuracy: 0.9723, Loss: 0.0221\n",
      "Epoch  12 Batch   20/134 - Train Accuracy: 0.9685, Validation Accuracy: 0.9707, Loss: 0.0198\n",
      "Epoch  12 Batch   40/134 - Train Accuracy: 0.9740, Validation Accuracy: 0.9695, Loss: 0.0200\n",
      "Epoch  12 Batch   60/134 - Train Accuracy: 0.9696, Validation Accuracy: 0.9704, Loss: 0.0178\n",
      "Epoch  12 Batch   80/134 - Train Accuracy: 0.9754, Validation Accuracy: 0.9774, Loss: 0.0182\n",
      "Epoch  12 Batch  100/134 - Train Accuracy: 0.9696, Validation Accuracy: 0.9747, Loss: 0.0189\n",
      "Epoch  12 Batch  120/134 - Train Accuracy: 0.9725, Validation Accuracy: 0.9763, Loss: 0.0200\n",
      "Epoch  13 Batch   20/134 - Train Accuracy: 0.9690, Validation Accuracy: 0.9717, Loss: 0.0175\n",
      "Epoch  13 Batch   40/134 - Train Accuracy: 0.9771, Validation Accuracy: 0.9681, Loss: 0.0173\n",
      "Epoch  13 Batch   60/134 - Train Accuracy: 0.9701, Validation Accuracy: 0.9707, Loss: 0.0161\n",
      "Epoch  13 Batch   80/134 - Train Accuracy: 0.9765, Validation Accuracy: 0.9792, Loss: 0.0168\n",
      "Epoch  13 Batch  100/134 - Train Accuracy: 0.9731, Validation Accuracy: 0.9767, Loss: 0.0171\n",
      "Epoch  13 Batch  120/134 - Train Accuracy: 0.9745, Validation Accuracy: 0.9776, Loss: 0.0181\n",
      "Epoch  14 Batch   20/134 - Train Accuracy: 0.9739, Validation Accuracy: 0.9708, Loss: 0.0158\n",
      "Epoch  14 Batch   40/134 - Train Accuracy: 0.9826, Validation Accuracy: 0.9687, Loss: 0.0158\n",
      "Epoch  14 Batch   60/134 - Train Accuracy: 0.9754, Validation Accuracy: 0.9709, Loss: 0.0151\n",
      "Epoch  14 Batch   80/134 - Train Accuracy: 0.9787, Validation Accuracy: 0.9802, Loss: 0.0149\n",
      "Epoch  14 Batch  100/134 - Train Accuracy: 0.9721, Validation Accuracy: 0.9778, Loss: 0.0161\n"
     ]
    },
    {
     "name": "stdout",
     "output_type": "stream",
     "text": [
      "Epoch  14 Batch  120/134 - Train Accuracy: 0.9743, Validation Accuracy: 0.9776, Loss: 0.0169\n",
      "Epoch  15 Batch   20/134 - Train Accuracy: 0.9773, Validation Accuracy: 0.9719, Loss: 0.0142\n",
      "Epoch  15 Batch   40/134 - Train Accuracy: 0.9815, Validation Accuracy: 0.9734, Loss: 0.0143\n",
      "Epoch  15 Batch   60/134 - Train Accuracy: 0.9726, Validation Accuracy: 0.9736, Loss: 0.0141\n",
      "Epoch  15 Batch   80/134 - Train Accuracy: 0.9789, Validation Accuracy: 0.9792, Loss: 0.0138\n",
      "Epoch  15 Batch  100/134 - Train Accuracy: 0.9767, Validation Accuracy: 0.9763, Loss: 0.0153\n",
      "Epoch  15 Batch  120/134 - Train Accuracy: 0.9738, Validation Accuracy: 0.9778, Loss: 0.0155\n",
      "Epoch  16 Batch   20/134 - Train Accuracy: 0.9760, Validation Accuracy: 0.9661, Loss: 0.0129\n",
      "Epoch  16 Batch   40/134 - Train Accuracy: 0.9821, Validation Accuracy: 0.9759, Loss: 0.0136\n",
      "Epoch  16 Batch   60/134 - Train Accuracy: 0.9717, Validation Accuracy: 0.9780, Loss: 0.0133\n",
      "Epoch  16 Batch   80/134 - Train Accuracy: 0.9812, Validation Accuracy: 0.9785, Loss: 0.0131\n",
      "Epoch  16 Batch  100/134 - Train Accuracy: 0.9719, Validation Accuracy: 0.9773, Loss: 0.0148\n",
      "Epoch  16 Batch  120/134 - Train Accuracy: 0.9763, Validation Accuracy: 0.9769, Loss: 0.0139\n",
      "Epoch  17 Batch   20/134 - Train Accuracy: 0.9744, Validation Accuracy: 0.9690, Loss: 0.0123\n",
      "Epoch  17 Batch   40/134 - Train Accuracy: 0.9785, Validation Accuracy: 0.9704, Loss: 0.0132\n",
      "Epoch  17 Batch   60/134 - Train Accuracy: 0.9756, Validation Accuracy: 0.9785, Loss: 0.0124\n",
      "Epoch  17 Batch   80/134 - Train Accuracy: 0.9836, Validation Accuracy: 0.9797, Loss: 0.0121\n",
      "Epoch  17 Batch  100/134 - Train Accuracy: 0.9767, Validation Accuracy: 0.9748, Loss: 0.0137\n",
      "Epoch  17 Batch  120/134 - Train Accuracy: 0.9775, Validation Accuracy: 0.9734, Loss: 0.0136\n",
      "Epoch  18 Batch   20/134 - Train Accuracy: 0.9796, Validation Accuracy: 0.9739, Loss: 0.0118\n",
      "Epoch  18 Batch   40/134 - Train Accuracy: 0.9801, Validation Accuracy: 0.9771, Loss: 0.0116\n",
      "Epoch  18 Batch   60/134 - Train Accuracy: 0.9783, Validation Accuracy: 0.9784, Loss: 0.0117\n",
      "Epoch  18 Batch   80/134 - Train Accuracy: 0.9840, Validation Accuracy: 0.9792, Loss: 0.0114\n",
      "Epoch  18 Batch  100/134 - Train Accuracy: 0.9798, Validation Accuracy: 0.9753, Loss: 0.0124\n",
      "Epoch  18 Batch  120/134 - Train Accuracy: 0.9805, Validation Accuracy: 0.9749, Loss: 0.0125\n",
      "Epoch  19 Batch   20/134 - Train Accuracy: 0.9843, Validation Accuracy: 0.9767, Loss: 0.0107\n",
      "Epoch  19 Batch   40/134 - Train Accuracy: 0.9841, Validation Accuracy: 0.9725, Loss: 0.0108\n",
      "Epoch  19 Batch   60/134 - Train Accuracy: 0.9782, Validation Accuracy: 0.9785, Loss: 0.0111\n",
      "Epoch  19 Batch   80/134 - Train Accuracy: 0.9858, Validation Accuracy: 0.9817, Loss: 0.0102\n",
      "Epoch  19 Batch  100/134 - Train Accuracy: 0.9811, Validation Accuracy: 0.9769, Loss: 0.0119\n",
      "Epoch  19 Batch  120/134 - Train Accuracy: 0.9838, Validation Accuracy: 0.9750, Loss: 0.0113\n",
      "Epoch  20 Batch   20/134 - Train Accuracy: 0.9836, Validation Accuracy: 0.9753, Loss: 0.0100\n",
      "Epoch  20 Batch   40/134 - Train Accuracy: 0.9834, Validation Accuracy: 0.9770, Loss: 0.0101\n",
      "Epoch  20 Batch   60/134 - Train Accuracy: 0.9783, Validation Accuracy: 0.9790, Loss: 0.0104\n",
      "Epoch  20 Batch   80/134 - Train Accuracy: 0.9872, Validation Accuracy: 0.9814, Loss: 0.0097\n",
      "Epoch  20 Batch  100/134 - Train Accuracy: 0.9827, Validation Accuracy: 0.9794, Loss: 0.0111\n",
      "Epoch  20 Batch  120/134 - Train Accuracy: 0.9821, Validation Accuracy: 0.9757, Loss: 0.0107\n",
      "Model Trained and Saved\n"
     ]
    }
   ],
   "source": [
    "def get_accuracy(target, logits):\n",
    "    \"\"\"\n",
    "    Calculate accuracy\n",
    "    \"\"\"\n",
    "    max_seq = max(target.shape[1], logits.shape[1])\n",
    "    if max_seq - target.shape[1]:\n",
    "        target = np.pad(\n",
    "            target,\n",
    "            [(0,0),(0,max_seq - target.shape[1])],\n",
    "            'constant')\n",
    "    if max_seq - logits.shape[1]:\n",
    "        logits = np.pad(\n",
    "            logits,\n",
    "            [(0,0),(0,max_seq - logits.shape[1])],\n",
    "            'constant')\n",
    "\n",
    "    return np.mean(np.equal(target, logits))\n",
    "\n",
    "# Split data to training and validation sets\n",
    "train_source = source_int_text[batch_size:]\n",
    "train_target = target_int_text[batch_size:]\n",
    "valid_source = source_int_text[:batch_size]\n",
    "valid_target = target_int_text[:batch_size]\n",
    "(valid_sources_batch, valid_targets_batch, valid_sources_lengths, valid_targets_lengths ) = next(get_batches(valid_source,\n",
    "                                                                                                             valid_target,\n",
    "                                                                                                             batch_size,\n",
    "                                                                                                             source_vocab_to_int['<PAD>'],\n",
    "                                                                                                             target_vocab_to_int['<PAD>']))                                                                                                  \n",
    "writer = tf.summary.FileWriter(logdir, graph=train_graph)\n",
    "with tf.Session(graph=train_graph) as sess:\n",
    "    sess.run(tf.global_variables_initializer())\n",
    "\n",
    "    for epoch_i in range(epochs):\n",
    "        for batch_i, (source_batch, target_batch, sources_lengths, targets_lengths) in enumerate(\n",
    "                get_batches(train_source, train_target, batch_size,\n",
    "                            source_vocab_to_int['<PAD>'],\n",
    "                            target_vocab_to_int['<PAD>'])):\n",
    "\n",
    "            _, loss = sess.run(\n",
    "                [train_op, cost],\n",
    "                {\n",
    "                    input_data: source_batch,\n",
    "                    targets: target_batch,\n",
    "                    lr: learning_rate,\n",
    "                    target_sequence_length: targets_lengths,\n",
    "                    source_sequence_length: sources_lengths,\n",
    "                    keep_prob: keep_probability\n",
    "                }\n",
    "            )\n",
    "\n",
    "\n",
    "            if batch_i % display_step == 0 and batch_i > 0:\n",
    "                batch_train_logits = sess.run(\n",
    "                    inference_logits,\n",
    "                    {\n",
    "                        input_data: source_batch,\n",
    "                        source_sequence_length: sources_lengths,\n",
    "                        target_sequence_length: targets_lengths,\n",
    "                        keep_prob: 1.0\n",
    "                    }\n",
    "                )\n",
    "\n",
    "\n",
    "                batch_valid_logits = sess.run(\n",
    "                    inference_logits,\n",
    "                    {\n",
    "                        input_data: valid_sources_batch,\n",
    "                        source_sequence_length: valid_sources_lengths,\n",
    "                        target_sequence_length: valid_targets_lengths,\n",
    "                        keep_prob: 1.0\n",
    "                    }\n",
    "                )\n",
    "\n",
    "                train_acc = get_accuracy(target_batch, batch_train_logits)\n",
    "                valid_acc = get_accuracy(valid_targets_batch, batch_valid_logits)\n",
    "                \n",
    "                step = epoch_i * (len(source_batch)//batch_size) + batch_i\n",
    "                \n",
    "                summary = tf.Summary()\n",
    "                summary.value.add(tag='Train Accuracy', simple_value=train_acc)\n",
    "                summary.value.add(tag='Validation Accuracy', simple_value=valid_acc)\n",
    "                summary.value.add(tag='Loss', simple_value=loss)\n",
    "                \n",
    "                writer.add_summary(summary, global_step=step)\n",
    "\n",
    "                print('Epoch {:>3} Batch {:>4}/{} - Train Accuracy: {:>6.4f}, Validation Accuracy: {:>6.4f}, Loss: {:>6.4f}'\n",
    "                      .format(epoch_i, batch_i, len(source_int_text) // batch_size, train_acc, valid_acc, loss))\n",
    "\n",
    "    # Save Model\n",
    "    saver = tf.train.Saver()\n",
    "    saver.save(sess, save_path)\n",
    "    print('Model Trained and Saved')"
   ]
  },
  {
   "cell_type": "markdown",
   "metadata": {},
   "source": [
    "### Save Parameters\n",
    "Save the `batch_size` and `save_path` parameters for inference."
   ]
  },
  {
   "cell_type": "code",
   "execution_count": 19,
   "metadata": {},
   "outputs": [],
   "source": [
    "# Save parameters for checkpoint\n",
    "helper.save_params(save_path)"
   ]
  },
  {
   "cell_type": "markdown",
   "metadata": {},
   "source": [
    "# Checkpoint"
   ]
  },
  {
   "cell_type": "code",
   "execution_count": 20,
   "metadata": {},
   "outputs": [],
   "source": [
    "import tensorflow as tf\n",
    "import numpy as np\n",
    "import helper\n",
    "import tests\n",
    "\n",
    "_, (source_vocab_to_int, target_vocab_to_int), (source_int_to_vocab, target_int_to_vocab) = helper.load_preprocess()\n",
    "load_path = helper.load_params()"
   ]
  },
  {
   "cell_type": "markdown",
   "metadata": {},
   "source": [
    "## Sentence to Sequence\n",
    "To feed a sentence into the model for translation, we first need to preprocess it.\n",
    "\n",
    "- Convert the sentence to lowercase\n",
    "- Convert words into ids using `vocab_to_int`\n",
    "- Convert words not in the vocabulary, to the `<UNK>` word id."
   ]
  },
  {
   "cell_type": "code",
   "execution_count": 21,
   "metadata": {},
   "outputs": [
    {
     "name": "stdout",
     "output_type": "stream",
     "text": [
      "Tests Passed\n"
     ]
    }
   ],
   "source": [
    "def sentence_to_seq(sentence, vocab_to_int):\n",
    "    \"\"\"\n",
    "    Convert a sentence to a sequence of ids\n",
    "    :param sentence: String\n",
    "    :param vocab_to_int: Dictionary to go from the words to an id\n",
    "    :return: List of word ids\n",
    "    \"\"\"\n",
    "    lowercase = sentence.lower()\n",
    "    \n",
    "    default = vocab_to_int['<UNK>']\n",
    "    sentence_id = [vocab_to_int.get(word, default) for word in lowercase.split()]\n",
    "    \n",
    "    return sentence_id\n",
    "\n",
    "tests.test_sentence_to_seq(sentence_to_seq)"
   ]
  },
  {
   "cell_type": "markdown",
   "metadata": {},
   "source": [
    "## Translate\n",
    "This will translate `translate_sentence` from English to French."
   ]
  },
  {
   "cell_type": "code",
   "execution_count": 22,
   "metadata": {},
   "outputs": [
    {
     "name": "stdout",
     "output_type": "stream",
     "text": [
      "INFO:tensorflow:Restoring parameters from checkpoints/dev\n",
      "Input\n",
      "  Word Ids:      [225, 203, 32, 136, 187, 81, 76]\n",
      "  English Words: ['he', 'saw', 'a', 'old', 'yellow', 'truck', '.']\n",
      "\n",
      "Prediction\n",
      "  Word Ids:      [266, 18, 340, 347, 148, 131, 1]\n",
      "  French Words: il vu un camion jaune . <EOS>\n"
     ]
    }
   ],
   "source": [
    "translate_sentence = 'he saw a old yellow truck .'\n",
    "translate_sentence = sentence_to_seq(translate_sentence, source_vocab_to_int)\n",
    "\n",
    "loaded_graph = tf.Graph()\n",
    "with tf.Session(graph=loaded_graph) as sess:\n",
    "    # Load saved model\n",
    "    loader = tf.train.import_meta_graph(load_path + '.meta')\n",
    "    loader.restore(sess, load_path)\n",
    "\n",
    "    input_data = loaded_graph.get_tensor_by_name('input:0')\n",
    "    logits = loaded_graph.get_tensor_by_name('predictions:0')\n",
    "    target_sequence_length = loaded_graph.get_tensor_by_name('target_sequence_length:0')\n",
    "    source_sequence_length = loaded_graph.get_tensor_by_name('source_sequence_length:0')\n",
    "    keep_prob = loaded_graph.get_tensor_by_name('keep_prob:0')\n",
    "\n",
    "    translate_logits = sess.run(\n",
    "        logits,\n",
    "        {\n",
    "            input_data: [translate_sentence] * batch_size,\n",
    "            target_sequence_length: [len(translate_sentence) * 2] * batch_size,\n",
    "            source_sequence_length: [len(translate_sentence)] * batch_size,\n",
    "            keep_prob: 1.0\n",
    "        }\n",
    "    )[0]\n",
    "\n",
    "print('Input')\n",
    "print('  Word Ids:      {}'.format([i for i in translate_sentence]))\n",
    "print('  English Words: {}'.format([source_int_to_vocab[i] for i in translate_sentence]))\n",
    "\n",
    "print('\\nPrediction')\n",
    "print('  Word Ids:      {}'.format([i for i in translate_logits]))\n",
    "print('  French Words: {}'.format(\" \".join([target_int_to_vocab[i] for i in translate_logits])))\n"
   ]
  }
 ],
 "metadata": {
  "anaconda-cloud": {},
  "kernelspec": {
   "display_name": "Python [conda env:tensorflow_p36]",
   "language": "python",
   "name": "conda-env-tensorflow_p36-py"
  },
  "language_info": {
   "codemirror_mode": {
    "name": "ipython",
    "version": 3
   },
   "file_extension": ".py",
   "mimetype": "text/x-python",
   "name": "python",
   "nbconvert_exporter": "python",
   "pygments_lexer": "ipython3",
   "version": "3.6.4"
  }
 },
 "nbformat": 4,
 "nbformat_minor": 1
}
